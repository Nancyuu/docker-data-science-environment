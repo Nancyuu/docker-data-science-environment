{
 "cells": [
  {
   "cell_type": "code",
   "execution_count": 1,
   "id": "0746154e-e8cd-4279-9a80-ef4ddb36ff0c",
   "metadata": {},
   "outputs": [
    {
     "name": "stdout",
     "output_type": "stream",
     "text": [
      "[1] \"Hello world\"\n"
     ]
    }
   ],
   "source": [
    "testString <- \"Hello world\"\n",
    "print(testString)"
   ]
  },
  {
   "cell_type": "code",
   "execution_count": null,
   "id": "c8f3e7b8-863e-4b09-bc8b-0a2db3e2edab",
   "metadata": {},
   "outputs": [],
   "source": []
  }
 ],
 "metadata": {
  "kernelspec": {
   "display_name": "R",
   "language": "R",
   "name": "ir"
  },
  "language_info": {
   "codemirror_mode": "r",
   "file_extension": ".r",
   "mimetype": "text/x-r-source",
   "name": "R",
   "pygments_lexer": "r",
   "version": "3.6.3"
  }
 },
 "nbformat": 4,
 "nbformat_minor": 5
}
